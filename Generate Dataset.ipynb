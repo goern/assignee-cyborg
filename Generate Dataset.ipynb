{
 "cells": [
  {
   "cell_type": "markdown",
   "metadata": {},
   "source": [
    "# The dataset\n",
    "\n",
    "This notebook is used to generate a dataset our machine learning approach can use. It will include all issues created in a given GitHub organisation that have an assignee, the issue will include the title, body and assignee."
   ]
  },
  {
   "cell_type": "code",
   "execution_count": 1,
   "metadata": {},
   "outputs": [],
   "source": [
    "from IGitt.GitHub.GitHubIssue import GitHubToken, GitHubIssue\n",
    "from IGitt.GitHub.GitHubOrganization import GitHubOrganization\n",
    "\n",
    "thoth_station = GitHubOrganization(GitHubToken(\"<YOUR TOKEN HERE>\"), \"thoth-station\")"
   ]
  },
  {
   "cell_type": "markdown",
   "metadata": {},
   "source": [
    "First of all, let's get all opened/closeed issues"
   ]
  },
  {
   "cell_type": "code",
   "execution_count": 2,
   "metadata": {},
   "outputs": [],
   "source": [
    "all_closed_issues = thoth_station.filter_issues(state='closed')\n",
    "all_opened_issues = thoth_station.filter_issues(state='opened')"
   ]
  },
  {
   "cell_type": "code",
   "execution_count": 11,
   "metadata": {},
   "outputs": [],
   "source": [
    "all_issues_extracted_information = []\n",
    "issues_total = 0\n",
    "issues_with_assignee_total = 0"
   ]
  },
  {
   "cell_type": "markdown",
   "metadata": {},
   "source": [
    "."
   ]
  },
  {
   "cell_type": "code",
   "execution_count": 12,
   "metadata": {},
   "outputs": [],
   "source": [
    "from typing import List \n",
    "\n",
    "\n",
    "def process_issues(issues: List) -> List:\n",
    "    global issues_total\n",
    "    global issues_with_assignee_total\n",
    "    \n",
    "    for issue in issues:\n",
    "        issues_total = issues_total + 1\n",
    "        \n",
    "        if type(issue) is GitHubIssue:\n",
    "            if 'bot' in issue.labels:\n",
    "                continue\n",
    "            \n",
    "            if issue.assignees != set():\n",
    "                assignee_usernames = []\n",
    "            \n",
    "                for assignee in issue.assignees:\n",
    "                    assignee_usernames.append(assignee.username)\n",
    "        \n",
    "            issues_with_assignee_total = issues_with_assignee_total + 1\n",
    "            \n",
    "            if not (issue.title.startswith('New') and issue.title.endswith('release')):\n",
    "                for assignee in issue.assignees:\n",
    "                    clean_issue_description = issue.description #.replace('\\n', '\\\\n')\n",
    "                \n",
    "                    all_issues_extracted_information.append({\n",
    "                        'number': issue.number,\n",
    "                        'title': issue.title,\n",
    "                        'assignee_usernames': assignee_usernames,\n",
    "                        'description': clean_issue_description\n",
    "                    })\n",
    "                "
   ]
  },
  {
   "cell_type": "markdown",
   "metadata": {},
   "source": [
    "."
   ]
  },
  {
   "cell_type": "code",
   "execution_count": 13,
   "metadata": {},
   "outputs": [],
   "source": [
    "all_issues_extracted_information.append(process_issues(all_closed_issues))\n",
    "all_issues_extracted_information.append(process_issues(all_opened_issues))"
   ]
  },
  {
   "cell_type": "markdown",
   "metadata": {},
   "source": [
    "."
   ]
  },
  {
   "cell_type": "code",
   "execution_count": 14,
   "metadata": {},
   "outputs": [
    {
     "name": "stdout",
     "output_type": "stream",
     "text": [
      "37\n"
     ]
    }
   ],
   "source": [
    "print(len(all_issues_extracted_information))"
   ]
  },
  {
   "cell_type": "code",
   "execution_count": 22,
   "metadata": {},
   "outputs": [
    {
     "name": "stdout",
     "output_type": "stream",
     "text": [
      "Size of issues set: 1091: open: 91, closed: 1000\n",
      "A total of 1091 issues has 152 issues with assignees\n"
     ]
    }
   ],
   "source": [
    "print(f\"Size of issues set: {len(all_closed_issues)+len(all_opened_issues)}: open: {len(all_opened_issues)}, closed: {len(all_closed_issues)}\")\n",
    "print(f\"A total of {issues_total} issues has {issues_with_assignee_total} issues with assignees\")"
   ]
  },
  {
   "cell_type": "code",
   "execution_count": null,
   "metadata": {},
   "outputs": [],
   "source": []
  }
 ],
 "metadata": {
  "kernelspec": {
   "display_name": "Python 3",
   "language": "python",
   "name": "python3"
  },
  "language_info": {
   "codemirror_mode": {
    "name": "ipython",
    "version": 3
   },
   "file_extension": ".py",
   "mimetype": "text/x-python",
   "name": "python",
   "nbconvert_exporter": "python",
   "pygments_lexer": "ipython3",
   "version": "3.6.6"
  }
 },
 "nbformat": 4,
 "nbformat_minor": 2
}
